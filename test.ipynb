{
 "cells": [
  {
   "cell_type": "markdown",
   "id": "74726a28-b0eb-4041-80b9-a114e10cdc23",
   "metadata": {},
   "source": [
    "# Data Science Tools and Ecosystem"
   ]
  },
  {
   "cell_type": "markdown",
   "id": "95e1e5d1-9656-419f-b0bf-5ceb852917bc",
   "metadata": {},
   "source": [
    "### In this notebook, Data Science Tools and Ecosystem are summarized."
   ]
  },
  {
   "cell_type": "markdown",
   "id": "5ae1eac1-f950-4867-a7b2-361e689ce93e",
   "metadata": {},
   "source": [
    "**Objectives:**\n",
    "- List of popular languages for Data Science\n",
    "- List of some commonly used libraries by Data Scientists\n",
    "- Few examples of evaluating arithmetic expressions in Python"
   ]
  },
  {
   "cell_type": "markdown",
   "id": "5a5dc5f7-794e-4f79-8aa6-c517a9e3fc8c",
   "metadata": {},
   "source": [
    "#### Some of the popular languages that Data Scientists use are:"
   ]
  },
  {
   "cell_type": "markdown",
   "id": "2bcc2984-74f9-48e9-bf4c-d4512cbe39fa",
   "metadata": {},
   "source": [
    "1. Python\n",
    "2. R\n",
    "3. SQL\n",
    "4. Java\n",
    "5. Julia\n",
    "6. Scala"
   ]
  },
  {
   "cell_type": "markdown",
   "id": "d2f40d16-c33c-4b61-a95b-e1e45aef3724",
   "metadata": {},
   "source": [
    "#### Some of the commonly used libraries used by Data Scientists include:"
   ]
  },
  {
   "cell_type": "markdown",
   "id": "71f6cdf5-e05e-491b-8b90-52f256a3fb34",
   "metadata": {},
   "source": [
    "1. Scikit-Learn\n",
    "2. Keras\n",
    "3. TensorFlow\n",
    "4. PyTorch"
   ]
  },
  {
   "cell_type": "markdown",
   "id": "969d948c-cfc3-4760-8312-aec27b03f817",
   "metadata": {},
   "source": [
    "Data Science Tools\n",
    "|-----------------|\n",
    "|Anaconda|\n",
    "|VS Code|\n",
    "|R Studio|"
   ]
  },
  {
   "cell_type": "markdown",
   "id": "bd9109f9-3e55-4af6-a2cc-99fcacd07a24",
   "metadata": {},
   "source": [
    "### Below are a few examples of evaluating arithmetic expressions in Python"
   ]
  },
  {
   "cell_type": "code",
   "execution_count": 1,
   "id": "3d7347e3-cd04-4582-82c5-586c6c06380e",
   "metadata": {},
   "outputs": [
    {
     "data": {
      "text/plain": [
       "66"
      ]
     },
     "execution_count": 1,
     "metadata": {},
     "output_type": "execute_result"
    }
   ],
   "source": [
    "# This a simple arithmetic expression to multiply then add integers\n",
    "\n",
    "(7*9)+3"
   ]
  },
  {
   "cell_type": "code",
   "execution_count": 2,
   "id": "f8885515-dcc1-4ce6-a293-acf087637028",
   "metadata": {},
   "outputs": [
    {
     "data": {
      "text/plain": [
       "3.3333333333333335"
      ]
     },
     "execution_count": 2,
     "metadata": {},
     "output_type": "execute_result"
    }
   ],
   "source": [
    "# This will convert 200 minutes to hours by diving by 60\n",
    "\n",
    "200/60"
   ]
  },
  {
   "cell_type": "markdown",
   "id": "08668254-883f-4981-bd85-afa386d25fcd",
   "metadata": {},
   "source": [
    "## Author\n",
    "Ashray Wadhwa"
   ]
  },
  {
   "cell_type": "code",
   "execution_count": null,
   "id": "f429d28a-a4b5-4716-91e5-c06ab474716f",
   "metadata": {},
   "outputs": [],
   "source": []
  }
 ],
 "metadata": {
  "kernelspec": {
   "display_name": "Python 3 (ipykernel)",
   "language": "python",
   "name": "python3"
  },
  "language_info": {
   "codemirror_mode": {
    "name": "ipython",
    "version": 3
   },
   "file_extension": ".py",
   "mimetype": "text/x-python",
   "name": "python",
   "nbconvert_exporter": "python",
   "pygments_lexer": "ipython3",
   "version": "3.12.8"
  }
 },
 "nbformat": 4,
 "nbformat_minor": 5
}
